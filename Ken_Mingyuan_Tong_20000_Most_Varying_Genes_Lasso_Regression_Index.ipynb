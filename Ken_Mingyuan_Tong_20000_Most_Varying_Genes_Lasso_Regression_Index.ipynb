{
 "cells": [
  {
   "cell_type": "code",
   "execution_count": 1,
   "metadata": {},
   "outputs": [],
   "source": [
    "import pandas\n",
    "rnaseq = pandas.read_csv('training/rnaseq.csv')\n",
    "aucs = pandas.read_csv('training/aucs.csv')"
   ]
  },
  {
   "cell_type": "code",
   "execution_count": 2,
   "metadata": {},
   "outputs": [],
   "source": [
    "import getpass\n",
    "import pandas\n",
    "import synapseclient\n",
    "import synapseutils"
   ]
  },
  {
   "cell_type": "code",
   "execution_count": 3,
   "metadata": {},
   "outputs": [],
   "source": [
    "from util import TransposeRnaSeqTable\n",
    "\n",
    "specimens = TransposeRnaSeqTable(rnaseq)\n",
    "selected_genes = specimens.var().nlargest(20000).index.tolist()"
   ]
  },
  {
   "cell_type": "code",
   "execution_count": 4,
   "metadata": {},
   "outputs": [
    {
     "name": "stdout",
     "output_type": "stream",
     "text": [
      "77.9% of (inhibitor, specimen) pairs have AUCs.\n"
     ]
    }
   ],
   "source": [
    "print(\"%.1f%% of (inhibitor, specimen) pairs have AUCs.\" % (\n",
    "    100 * aucs.shape[0] / float(len(aucs.inhibitor.unique()) * len(aucs.lab_id.unique()))))"
   ]
  },
  {
   "cell_type": "code",
   "execution_count": 5,
   "metadata": {},
   "outputs": [],
   "source": [
    "from matplotlib import pyplot\n",
    "import numpy\n",
    "import seaborn\n",
    "#from sklearn.linear_model import RidgeCV\n",
    "from sklearn.linear_model import LassoCV\n",
    "\n",
    "# Normalize each specimen.\n",
    "X = specimens\n",
    "X = X.div(numpy.linalg.norm(X, axis=1), axis=0)\n",
    "X = X[selected_genes]\n",
    "\n",
    "\n",
    "# Compute z-score.\n",
    "gene_mean = X.mean(axis=0)\n",
    "gene_std = X.std(axis=0)\n",
    "X = (X - gene_mean) / gene_std\n",
    "\n",
    "# For each inhibitor, train a regressor.\n",
    "alphas = numpy.logspace(-1, 5, num=40)\n",
    "regressors = {}\n",
    "for inhibitor in aucs.inhibitor.unique():\n",
    "    auc_subset = aucs[aucs.inhibitor == inhibitor]\n",
    "    #regr = RidgeCV(alphas=alphas, store_cv_values=True)\n",
    "    regr = LassoCV(alphas=alphas)\n",
    "    regr = regr.fit(X.loc[auc_subset.lab_id], auc_subset.auc)\n",
    "    regressors[inhibitor] = regr"
   ]
  },
  {
   "cell_type": "code",
   "execution_count": 6,
   "metadata": {},
   "outputs": [],
   "source": [
    "# len(regressors)"
   ]
  },
  {
   "cell_type": "code",
   "execution_count": 7,
   "metadata": {},
   "outputs": [],
   "source": [
    "\n",
    "pkl_1_dict = {\n",
    "    'gene': selected_genes,\n",
    "    'gene_mean': gene_mean,\n",
    "    'gene_std': gene_std,\n",
    "}\n",
    "for inhibitor, regr in regressors.items():\n",
    "    pkl_1_dict[inhibitor] = regr.coef_\n",
    "pkl_1_out = pandas.DataFrame(pkl_1_dict)\n",
    "\n",
    "pkl_2_out = pandas.DataFrame({\n",
    "    'inhibitor': [inhibitor for inhibitor in regressors.keys()],\n",
    "    'intercept': [regr.intercept_ for regr in regressors.values()],\n",
    "})\n",
    "pkl_1_out.to_csv('model/pkl_1.csv', index=False)\n",
    "pkl_2_out.to_csv('model/pkl_2.csv', index=False)"
   ]
  },
  {
   "cell_type": "code",
   "execution_count": 8,
   "metadata": {},
   "outputs": [],
   "source": [
    "# Join groundtruth onto predictions, because predictions is a\n",
    "# superset of groundtruth.\n",
    "indices = ['lab_id', 'inhibitor']\n",
    "groundtruth = pandas.read_csv('training/aucs.csv').set_index(indices)\n",
    "predictions = pandas.read_csv('output/predictions.csv').set_index(indices)\n",
    "predictions_and_groundtruth = groundtruth.join(\n",
    "    predictions, lsuffix='_groundtruth', rsuffix='_prediction')"
   ]
  },
  {
   "cell_type": "code",
   "execution_count": null,
   "metadata": {},
   "outputs": [],
   "source": []
  }
 ],
 "metadata": {
  "kernelspec": {
   "display_name": "Python 3",
   "language": "python",
   "name": "python3"
  },
  "language_info": {
   "codemirror_mode": {
    "name": "ipython",
    "version": 3
   },
   "file_extension": ".py",
   "mimetype": "text/x-python",
   "name": "python",
   "nbconvert_exporter": "python",
   "pygments_lexer": "ipython3",
   "version": "3.7.4"
  }
 },
 "nbformat": 4,
 "nbformat_minor": 2
}
