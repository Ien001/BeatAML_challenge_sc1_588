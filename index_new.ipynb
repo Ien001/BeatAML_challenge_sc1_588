{
 "cells": [
  {
   "cell_type": "markdown",
   "metadata": {},
   "source": [
    "# Subchallenge 1\n",
    "\n",
    "### Ian Ren,  Shang Wang, Xiling Li\n",
    "\n",
    "We'll train a RidgeRegression model on RNASeq data for each inhibitor to predict AUC. Specifically:\n",
    "\n",
    "- Select the n highest variance genes\n",
    "- For each inhibitor, train with leave-one-out cross validation\n",
    "- Try a bunch of alpha values"
   ]
  },
  {
   "cell_type": "markdown",
   "metadata": {},
   "source": [
    "###  Load the data"
   ]
  },
  {
   "cell_type": "code",
   "execution_count": 73,
   "metadata": {},
   "outputs": [],
   "source": [
    "import pandas\n",
    "# data \n",
    "rnaseq = pandas.read_csv('training_real/rnaseq_real.csv')\n",
    "# gt\n",
    "aucs = pandas.read_csv('training_real/aucs.csv')"
   ]
  },
  {
   "cell_type": "markdown",
   "metadata": {},
   "source": [
    "### leadboard data"
   ]
  },
  {
   "cell_type": "code",
   "execution_count": 22,
   "metadata": {},
   "outputs": [],
   "source": [
    "# data \n",
    "rnaseq_lb = pandas.read_csv('training/rnaseq.csv')\n",
    "# gt\n",
    "aucs_lb = pandas.read_csv('training/aucs.csv')"
   ]
  },
  {
   "cell_type": "code",
   "execution_count": 29,
   "metadata": {},
   "outputs": [],
   "source": [
    "#rnaseq_combine = pandas.merge(rnaseq,rnaseq_lb)\n",
    "rnaseq_combine = pandas.read_csv('training_combine/rnaseq_combine.csv')\n",
    "aucs_combine = pandas.read_csv('training_combine/aucs_combine.csv')"
   ]
  },
  {
   "cell_type": "code",
   "execution_count": 74,
   "metadata": {},
   "outputs": [],
   "source": [
    "import joblib\n",
    "from util import TransposeRnaSeqTable\n",
    "# Select the 2400 highest variance genes\n",
    "specimens = TransposeRnaSeqTable(rnaseq)\n",
    "#specimens_combine = TransposeRnaSeqTable(rnaseq_combine)"
   ]
  },
  {
   "cell_type": "markdown",
   "metadata": {},
   "source": [
    "### Here we proposed 5 feature selection methods on genes"
   ]
  },
  {
   "cell_type": "markdown",
   "metadata": {},
   "source": [
    "### 1. Manually selected genes\n",
    "- published from paper \"A machine learning approach to integrate big data for precision medicine in acute myeloid leukemia\"\n",
    "- Lee, S., Celik, S., Logsdon, B.A. et al. A machine learning approach to integrate big data for precision medicine in acute myeloid leukemia. Nat Commun 9, 42 (2018). https://doi.org/10.1038/s41467-017-02465-5"
   ]
  },
  {
   "cell_type": "code",
   "execution_count": 2,
   "metadata": {},
   "outputs": [
    {
     "name": "stdout",
     "output_type": "stream",
     "text": [
      "ENSG00000070444\n",
      "ENSG00000087299\n",
      "ENSG00000099326\n",
      "ENSG00000118412\n",
      "ENSG00000122025\n",
      "ENSG00000123636\n",
      "ENSG00000127616\n",
      "ENSG00000133134\n"
     ]
    }
   ],
   "source": [
    "naturecommm2018_symbol = ['FLT3', 'CASP8AP2', 'L2HGDH', 'MNT', 'BAZ2B', 'MZF1', 'BEX2', 'SMARCA4']\n",
    "naturecommm2018_gene = []\n",
    "for _,row in rnaseq.iterrows():\n",
    "    if row.Symbol in naturecommm2018_symbol:\n",
    "        print(row.Gene)\n",
    "        naturecommm2018_gene.append(row.Gene)"
   ]
  },
  {
   "cell_type": "markdown",
   "metadata": {},
   "source": [
    "### 2. Select the n highest variance genes\n",
    "- Through our experiments, we can get the best result when we take n = 25000"
   ]
  },
  {
   "cell_type": "code",
   "execution_count": 50,
   "metadata": {},
   "outputs": [],
   "source": [
    "selected_2400_genes = specimens.var().nlargest(2400).index.tolist()"
   ]
  },
  {
   "cell_type": "code",
   "execution_count": 114,
   "metadata": {},
   "outputs": [],
   "source": [
    "selected_n_genes = specimens.var().nlargest(1000).index.tolist()"
   ]
  },
  {
   "cell_type": "markdown",
   "metadata": {},
   "source": [
    "### Then, after we conduct heatmap on gene mutation data(\"dnaseq.csv\"),  we divide the 238 genes into 4 groups based on the number of mutations (few, medial, many, too many), and we only take \"few\", \"medial\" and \"many\" groups as selection results."
   ]
  },
  {
   "cell_type": "markdown",
   "metadata": {},
   "source": [
    "### 3. The gene group with few mutations "
   ]
  },
  {
   "cell_type": "code",
   "execution_count": 5,
   "metadata": {
    "scrolled": true
   },
   "outputs": [
    {
     "name": "stdout",
     "output_type": "stream",
     "text": [
      "('Length is :', 107)\n"
     ]
    }
   ],
   "source": [
    "few_mutations_symbols = ['DIAPH1', 'C17orf97', 'UNC80', 'NUP214', 'JMJD1C', 'AHDC1', 'FAM205A', 'LRRC37A3', \n",
    "                    'CD109', 'NUP98', 'CHIA', 'KCNK1', 'BMPER', 'CNTN6', 'PLIN4', 'EPHA3', 'ACAN', 'ABI3BP', \n",
    "                    'PKP3', 'PLEKHG5', 'ZNF285', 'TLR10', 'THADA', 'GLB1L2', 'CRY1', 'C1QC', 'RPGR', 'NMD3', \n",
    "                    'DSCAM', 'CDH20', 'NLRP1', 'SP140L', 'TLL2', 'BHLHE22', 'PPFIA3', 'MYO10', 'HEATR1', \n",
    "                    'KRT5', 'EP300', 'MORC4', 'KIAA1210', 'MXRA5', 'WDR87', 'TRPM2', 'TRANK1', 'IGFN1', \n",
    "                    'TMPRSS6', 'PHF6', 'GRIK4', 'ENAH', 'ADAMTS7', 'TET2', 'RBMS1', 'HMGCLL1', 'KIAA1239', \n",
    "                    'SCN11A', 'MYO16', 'CNTNAP3', 'ADNP2', 'FLNB', 'MYH13', 'GRM4', 'NACAD', 'HUNK', 'ARMC4', \n",
    "                    'CREBBP', 'ZNF711', 'A1CF', 'TRPM3', 'IKZF1', 'SOBP', 'NLRP8', 'SPOCK2', 'KAT8', 'CHCHD10', \n",
    "                    'TRMT5', 'WNK1', 'TP53', 'KRT10', 'SDHA', 'IVL', 'SPEG', 'SF3B1', 'TMC3', 'ACTL6B', 'WT1', 'FAM186A', \n",
    "                    'RBM12B', 'AQR', 'JAK2', 'DNMT3A', 'NPM1', 'TMEM175', 'ZNF195', 'CELSR2', 'IDH2', 'NRAS', 'COG7', \n",
    "                    'PCNXL3', 'KRAS', 'SCAF1', 'CDK13', 'SPEF2', 'YIPF5', 'FLT3', 'TPTE2']\n",
    "\n",
    "few_mutations_genes = []\n",
    "for _,row in rnaseq.iterrows():\n",
    "    if row.Symbol in few_mutations_symbols:\n",
    "        few_mutations_genes.append(row.Gene)\n",
    "print('Length is :', len(few_mutations_genes))"
   ]
  },
  {
   "cell_type": "markdown",
   "metadata": {},
   "source": [
    "### 4. The gene group with medial mutations "
   ]
  },
  {
   "cell_type": "code",
   "execution_count": 46,
   "metadata": {},
   "outputs": [
    {
     "name": "stdout",
     "output_type": "stream",
     "text": [
      "('Length is :', 67)\n"
     ]
    }
   ],
   "source": [
    "medial_mutations_symbols = ['IRX5', 'FNDC3B', 'TRDN', 'CHD4', 'ACSM2A', 'ABCA9', 'OTOG', 'STK3', 'ADCY8', 'CRB1', \n",
    "                         'WDR43', 'SUSD5', 'P2RY2', 'KRTAP5-7', 'TENM2', 'XIRP1', 'CYP4F12', 'PAPPA2', \n",
    "                         'CEACAM6', 'SASH1', 'TCHH', 'MARK3', 'TENM3', 'ASXL1', 'KCNG4', 'IRX6', 'CDH4', \n",
    "                         'DDX60L', 'RIMBP3', 'ADAMTS12', 'KIAA1328', 'ELFN1', 'AARS2', 'LRP8', 'SMC3', 'NCAM2', \n",
    "                         'PTPRS', 'F5', 'RUNX1', 'PLRG1', 'SH3KBP1', 'ATXN3', 'NF1', 'ATXN1', 'CTNNA2', 'PTEN', \n",
    "                         'KAT6B', 'TRIM48', 'IMPG1', 'FGD6', 'PLEKHG2', 'SMC1A', 'FOXP1', 'ARMC10', 'SLC39A12', \n",
    "                         'ZBTB47', 'NPIPA5', 'TRIO', 'FABP2', 'SSC5D', 'CT47B1', 'FAM194A', 'CDON', 'HECW2']\n",
    "\n",
    "medial_mutations_genes = []\n",
    "for _,row in rnaseq.iterrows():\n",
    "    if row.Symbol in medial_mutations_symbols:\n",
    "        medial_mutations_genes.append(row.Gene)\n",
    "print('Length is :', len(medial_mutations_genes))"
   ]
  },
  {
   "cell_type": "markdown",
   "metadata": {},
   "source": [
    "### 5. The gene group with many mutations "
   ]
  },
  {
   "cell_type": "code",
   "execution_count": null,
   "metadata": {},
   "outputs": [],
   "source": [
    "many_mutations_symbols = ['IRX5', 'FNDC3B', 'TRDN', 'CHD4', 'ACSM2A', 'ABCA9', 'OTOG', 'STK3', 'ADCY8', 'CRB1', \n",
    "                         'WDR43', 'SUSD5', 'P2RY2', 'KRTAP5-7', 'TENM2', 'XIRP1', 'CYP4F12', 'PAPPA2', \n",
    "                         'CEACAM6', 'SASH1', 'TCHH', 'MARK3', 'TENM3', 'ASXL1', 'KCNG4', 'IRX6', 'CDH4', \n",
    "                         'DDX60L', 'RIMBP3', 'ADAMTS12', 'KIAA1328', 'ELFN1', 'AARS2', 'LRP8', 'SMC3', 'NCAM2', \n",
    "                         'PTPRS', 'F5', 'RUNX1', 'PLRG1', 'SH3KBP1', 'ATXN3', 'NF1', 'ATXN1', 'CTNNA2', 'PTEN', \n",
    "                         'KAT6B', 'TRIM48', 'IMPG1', 'FGD6', 'PLEKHG2', 'SMC1A', 'FOXP1', 'ARMC10', 'SLC39A12', \n",
    "                         'ZBTB47', 'NPIPA5', 'TRIO', 'FABP2', 'SSC5D', 'CT47B1', 'FAM194A', 'CDON', 'HECW2']\n",
    "\n",
    "many_mutations_genes = []\n",
    "for _,row in rnaseq.iterrows():\n",
    "    if row.Symbol in many_mutations_symbols:\n",
    "        many_mutations_genes.append(row.Gene)\n",
    "print('Length is :', len(many_mutations_genes))"
   ]
  },
  {
   "cell_type": "markdown",
   "metadata": {},
   "source": [
    "### 6. highly significant genes from t-test of DNAseq data"
   ]
  },
  {
   "cell_type": "code",
   "execution_count": 25,
   "metadata": {},
   "outputs": [
    {
     "name": "stdout",
     "output_type": "stream",
     "text": [
      "('Length is :', 51)\n"
     ]
    }
   ],
   "source": [
    "ttest_symbols_1 = ['TTC40', 'TTLL1', 'FAM160A1', 'MTNR1B', 'STAG2', 'IL12RB1', 'CASS4', 'PDS5B', 'LPIN3', \n",
    "               'SEMA5A', 'POM121', 'IDH1', 'B4GALT2', 'ZZEF1', 'BCOR', 'TTI1', 'NRXN3', 'TCF25', 'FAF1', \n",
    "               'CCDC157', 'TPRX1', 'TRIP12', 'AGTPBP1', 'ZFHX4', 'LRP4', 'TTBK1', 'PKD1L2', 'SRSF2', 'SGK223', \n",
    "               'TUBA3D', 'TNIK', 'SLC9B1', 'CHD3', 'U2AF1', 'SP4', 'KIT', 'LRRCC1', 'ZNF518B', 'MTUS2', 'FAM83C', \n",
    "               'TRIM77', 'TRIM64B', 'EFCC1', 'ANAPC1', 'MYO5B', 'DARC', 'ARID2', 'CYP2A13', 'SH3TC2', 'REV3L']\n",
    "ttest_genes_1 = []\n",
    "for _,row in rnaseq.iterrows():\n",
    "    if row.Symbol in ttest_symbols_1:\n",
    "        ttest_genes_1.append(row.Gene)\n",
    "print('Length is :', len(ttest_genes_1))"
   ]
  },
  {
   "cell_type": "markdown",
   "metadata": {},
   "source": [
    "### 7. highly significant genes from t-test of DNAseq data with RNAseq data "
   ]
  },
  {
   "cell_type": "code",
   "execution_count": 6,
   "metadata": {},
   "outputs": [
    {
     "name": "stdout",
     "output_type": "stream",
     "text": [
      "('Length is :', 37)\n"
     ]
    }
   ],
   "source": [
    "ttest_symbols_2 = ['AGTPBP1', 'SMC1A', 'IDH1', 'PLRG1', 'ASXL1', 'KIT', 'RIMBP3', 'NPIPA5', 'OTOG', 'BCOR', \n",
    "                   'ELFN1', 'CHD4', 'TRIM77', 'CACNA2D3', 'TENM3', 'ANAPC1', 'PPP1R21', 'IRX5', 'B4GALT2', \n",
    "                   'MYO5B', 'DARC', 'ASCC3', 'ARID2', 'FER1L6', 'POM121', 'CYP2A13', 'CYP4F12', 'PKD1L2', \n",
    "                   'KIAA1328', 'FAF1', 'KCNG4', 'DTX1', 'CHD3', 'PEAR1', 'CCDC157']\n",
    "ttest_genes_2 = []\n",
    "for _,row in rnaseq.iterrows():\n",
    "    if row.Symbol in ttest_symbols_2:\n",
    "        ttest_genes_2.append(row.Gene)\n",
    "print('Length is :', len(ttest_genes_2))"
   ]
  },
  {
   "cell_type": "markdown",
   "metadata": {},
   "source": [
    "## 2 methods for combine feature selection result\n",
    "- 1. combain different groups gene\n",
    "- 2. train different models for different groups"
   ]
  },
  {
   "cell_type": "code",
   "execution_count": 115,
   "metadata": {},
   "outputs": [],
   "source": [
    "# combine fearure\n",
    "#combined_genes = list(set(naturecommm2018_gene+selected_n_genes+few_mutations_genes+ttest_genes_2))\n",
    "test_genes = list(selected_n_genes)"
   ]
  },
  {
   "cell_type": "code",
   "execution_count": 116,
   "metadata": {},
   "outputs": [
    {
     "data": {
      "text/plain": [
       "1000"
      ]
     },
     "execution_count": 116,
     "metadata": {},
     "output_type": "execute_result"
    }
   ],
   "source": [
    "len(test_genes)"
   ]
  },
  {
   "cell_type": "markdown",
   "metadata": {},
   "source": [
    "### Ridgecv"
   ]
  },
  {
   "cell_type": "code",
   "execution_count": 82,
   "metadata": {},
   "outputs": [],
   "source": [
    "from matplotlib import pyplot\n",
    "import numpy\n",
    "import seaborn\n",
    "from sklearn.linear_model import RidgeCV\n",
    "\n",
    "# Normalize each specimen.\n",
    "X = specimens\n",
    "X = X.div(numpy.linalg.norm(X, axis=1), axis=0)\n",
    "X = X[test_genes]\n",
    "\n",
    "# Compute z-score. normal?\n",
    "gene_mean = X.mean(axis=0)\n",
    "gene_std = X.std(axis=0)\n",
    "X = (X - gene_mean) / gene_std\n",
    "\n",
    "# For each inhibitor, train a regressor.\n",
    "alphas = numpy.logspace(-1, 5, num=40) # alpha\n",
    "regressors = {}\n",
    "for inhibitor in aucs.inhibitor.unique():\n",
    "    auc_subset = aucs[aucs.inhibitor == inhibitor]\n",
    "    regr = RidgeCV(alphas=alphas, store_cv_values=True) #\n",
    "    regr = regr.fit(X.loc[auc_subset.lab_id], auc_subset.auc)  \n",
    "    regressors[inhibitor] = regr"
   ]
  },
  {
   "cell_type": "markdown",
   "metadata": {},
   "source": [
    "### Ridgecv on combine data"
   ]
  },
  {
   "cell_type": "code",
   "execution_count": 79,
   "metadata": {},
   "outputs": [
    {
     "ename": "AttributeError",
     "evalue": "'float' object has no attribute 'sqrt'",
     "output_type": "error",
     "traceback": [
      "\u001b[0;31m-------------------------------------------------------------------------\u001b[0m",
      "\u001b[0;31mAttributeError\u001b[0m                          Traceback (most recent call last)",
      "\u001b[0;32m<ipython-input-79-bf2656cc4e17>\u001b[0m in \u001b[0;36m<module>\u001b[0;34m()\u001b[0m\n\u001b[1;32m      6\u001b[0m \u001b[0;31m# Normalize each specimen.\u001b[0m\u001b[0;34m\u001b[0m\u001b[0;34m\u001b[0m\u001b[0m\n\u001b[1;32m      7\u001b[0m \u001b[0mX\u001b[0m \u001b[0;34m=\u001b[0m \u001b[0mspecimens_combine\u001b[0m\u001b[0;34m\u001b[0m\u001b[0m\n\u001b[0;32m----> 8\u001b[0;31m \u001b[0mX\u001b[0m \u001b[0;34m=\u001b[0m \u001b[0mX\u001b[0m\u001b[0;34m.\u001b[0m\u001b[0mdiv\u001b[0m\u001b[0;34m(\u001b[0m\u001b[0mnumpy\u001b[0m\u001b[0;34m.\u001b[0m\u001b[0mlinalg\u001b[0m\u001b[0;34m.\u001b[0m\u001b[0mnorm\u001b[0m\u001b[0;34m(\u001b[0m\u001b[0mX\u001b[0m\u001b[0;34m,\u001b[0m \u001b[0maxis\u001b[0m\u001b[0;34m=\u001b[0m\u001b[0;36m1\u001b[0m\u001b[0;34m)\u001b[0m\u001b[0;34m,\u001b[0m \u001b[0maxis\u001b[0m\u001b[0;34m=\u001b[0m\u001b[0;36m0\u001b[0m\u001b[0;34m)\u001b[0m\u001b[0;34m\u001b[0m\u001b[0m\n\u001b[0m\u001b[1;32m      9\u001b[0m \u001b[0mX\u001b[0m \u001b[0;34m=\u001b[0m \u001b[0mX\u001b[0m\u001b[0;34m[\u001b[0m\u001b[0mtest_genes\u001b[0m\u001b[0;34m]\u001b[0m\u001b[0;34m\u001b[0m\u001b[0m\n\u001b[1;32m     10\u001b[0m \u001b[0;34m\u001b[0m\u001b[0m\n",
      "\u001b[0;32m/usr/local/lib/python2.7/site-packages/numpy/linalg/linalg.pyc\u001b[0m in \u001b[0;36mnorm\u001b[0;34m(x, ord, axis, keepdims)\u001b[0m\n\u001b[1;32m   2479\u001b[0m             \u001b[0;31m# special case for speedup\u001b[0m\u001b[0;34m\u001b[0m\u001b[0;34m\u001b[0m\u001b[0m\n\u001b[1;32m   2480\u001b[0m             \u001b[0ms\u001b[0m \u001b[0;34m=\u001b[0m \u001b[0;34m(\u001b[0m\u001b[0mx\u001b[0m\u001b[0;34m.\u001b[0m\u001b[0mconj\u001b[0m\u001b[0;34m(\u001b[0m\u001b[0;34m)\u001b[0m \u001b[0;34m*\u001b[0m \u001b[0mx\u001b[0m\u001b[0;34m)\u001b[0m\u001b[0;34m.\u001b[0m\u001b[0mreal\u001b[0m\u001b[0;34m\u001b[0m\u001b[0m\n\u001b[0;32m-> 2481\u001b[0;31m             \u001b[0;32mreturn\u001b[0m \u001b[0msqrt\u001b[0m\u001b[0;34m(\u001b[0m\u001b[0madd\u001b[0m\u001b[0;34m.\u001b[0m\u001b[0mreduce\u001b[0m\u001b[0;34m(\u001b[0m\u001b[0ms\u001b[0m\u001b[0;34m,\u001b[0m \u001b[0maxis\u001b[0m\u001b[0;34m=\u001b[0m\u001b[0maxis\u001b[0m\u001b[0;34m,\u001b[0m \u001b[0mkeepdims\u001b[0m\u001b[0;34m=\u001b[0m\u001b[0mkeepdims\u001b[0m\u001b[0;34m)\u001b[0m\u001b[0;34m)\u001b[0m\u001b[0;34m\u001b[0m\u001b[0m\n\u001b[0m\u001b[1;32m   2482\u001b[0m         \u001b[0;32melse\u001b[0m\u001b[0;34m:\u001b[0m\u001b[0;34m\u001b[0m\u001b[0m\n\u001b[1;32m   2483\u001b[0m             \u001b[0;32mtry\u001b[0m\u001b[0;34m:\u001b[0m\u001b[0;34m\u001b[0m\u001b[0m\n",
      "\u001b[0;31mAttributeError\u001b[0m: 'float' object has no attribute 'sqrt'"
     ]
    }
   ],
   "source": [
    "from matplotlib import pyplot\n",
    "import numpy\n",
    "import seaborn\n",
    "from sklearn.linear_model import RidgeCV\n",
    "\n",
    "# Normalize each specimen.\n",
    "X = specimens_combine\n",
    "X = X.div(numpy.linalg.norm(X, axis=1), axis=0)\n",
    "X = X[test_genes]\n",
    "\n",
    "# Compute z-score. normal?\n",
    "gene_mean = X.mean(axis=0)\n",
    "gene_std = X.std(axis=0)\n",
    "X = (X - gene_mean) / gene_std\n",
    "\n",
    "# For each inhibitor, train a regressor.\n",
    "alphas = numpy.logspace(-1, 5, num=40) # alpha\n",
    "regressors = {}\n",
    "for inhibitor in aucs_combine.inhibitor.unique():\n",
    "    auc_subset = aucs_combine[aucs_combine.inhibitor == inhibitor]\n",
    "    regr = RidgeCV(alphas=alphas, store_cv_values=True) #\n",
    "    regr = regr.fit(X.loc[auc_subset.lab_id], auc_subset.auc)  \n",
    "    regressors[inhibitor] = regr"
   ]
  },
  {
   "cell_type": "markdown",
   "metadata": {},
   "source": [
    "### LS"
   ]
  },
  {
   "cell_type": "code",
   "execution_count": 117,
   "metadata": {},
   "outputs": [],
   "source": [
    "from matplotlib import pyplot\n",
    "import numpy\n",
    "import seaborn\n",
    "from sklearn.linear_model import RidgeCV\n",
    "\n",
    "# Normalize each specimen.\n",
    "X = specimens\n",
    "X = X.div(numpy.linalg.norm(X, axis=1), axis=0)\n",
    "X = X[test_genes]\n",
    "\n",
    "# Compute z-score. normal?\n",
    "gene_mean = X.mean(axis=0)\n",
    "gene_std = X.std(axis=0)\n",
    "X = (X - gene_mean) / gene_std\n",
    "\n",
    "# For each inhibitor, train a regressor.\n",
    "#alphas = numpy.logspace(-1, 5, num=40) # alpha\n",
    "regressors = {}\n",
    "for inhibitor in aucs.inhibitor.unique():\n",
    "    auc_subset = aucs[aucs.inhibitor == inhibitor]\n",
    "    #regr = RidgeCV(alphas=alphas, store_cv_values=True) #\n",
    "    regr = LassoCV(alphas=alphas)\n",
    "    regr = regr.fit(X.loc[auc_subset.lab_id], auc_subset.auc)  \n",
    "    regressors[inhibitor] = regr"
   ]
  },
  {
   "cell_type": "markdown",
   "metadata": {},
   "source": [
    "### Store the model information in `model/`\n",
    "\n",
    "In python this process is sometimes referred to as \"pickling,\" thus the variable names \"pkl_1\" and \"pkl_2\"."
   ]
  },
  {
   "cell_type": "code",
   "execution_count": 108,
   "metadata": {},
   "outputs": [],
   "source": [
    "pkl_1_dict = {\n",
    "    'gene': test_genes,\n",
    "    'gene_mean': gene_mean,\n",
    "    'gene_std': gene_std,\n",
    "}\n",
    "for inhibitor, regr in regressors.items():\n",
    "    pkl_1_dict[inhibitor] = regr.coef_\n",
    "pkl_1_out = pandas.DataFrame(pkl_1_dict)\n",
    "\n",
    "pkl_2_out = pandas.DataFrame({\n",
    "    'inhibitor': [inhibitor for inhibitor in regressors.keys()],\n",
    "    'intercept': [regr.intercept_ for regr in regressors.values()],\n",
    "})\n",
    "pkl_1_out.to_csv('model/pkl_1.csv', index=False)\n",
    "pkl_2_out.to_csv('model/pkl_2.csv', index=False)"
   ]
  },
  {
   "cell_type": "markdown",
   "metadata": {},
   "source": [
    "### Run the model\n",
    "\n",
    "We run the model with\n",
    "\n",
    "```bash\n",
    "SYNAPSE_PROJECT_ID=<your project ID> #syn21555820\n",
    "docker build -t docker.synapse.org/$SYNAPSE_PROJECT_ID/sc1_model .\n",
    "docker run \\\n",
    "    -v \"$PWD/training/:/input/\" \\\n",
    "    -v \"$PWD/output:/output/\" \\\n",
    "    docker.synapse.org/$SYNAPSE_PROJECT_ID/sc1_model\n",
    "\n",
    "# Maybe push to Synapse.\n",
    "docker login docker.synapse.org\n",
    "docker push docker.synapse.org/$SYNAPSE_PROJECT_ID/sc1_model\n",
    "```\n",
    "**Note: you must pass the Synapse [certified user test](https://docs.synapse.org/articles/accounts_certified_users_and_profile_validation.html#certified-users) before you can push to the Synapse docker hub.**\n",
    "### Look at predictions vs goldstandard for training data\n",
    "\n",
    "Assumes predictions are in `output/predictions.csv`. Note that the performance on training dataset is going to be better than on the leaderboard data. Therefore, this is a good test of formatting / sanity check, but not of predictive performance."
   ]
  },
  {
   "cell_type": "code",
   "execution_count": 334,
   "metadata": {},
   "outputs": [],
   "source": [
    "# Join groundtruth onto predictions, because predictions is a\n",
    "# superset of groundtruth.\n",
    "indices = ['lab_id', 'inhibitor']\n",
    "groundtruth = pandas.read_csv('training/aucs.csv').set_index(indices)\n",
    "predictions = pandas.read_csv('output/predictions.csv').set_index(indices)\n",
    "predictions_and_groundtruth = groundtruth.join(\n",
    "    predictions, lsuffix='_groundtruth', rsuffix='_prediction')"
   ]
  },
  {
   "cell_type": "markdown",
   "metadata": {},
   "source": [
    "## Here, we test our model using leadborad data\n",
    "### The naming does not change, but we change the data inside the floder"
   ]
  },
  {
   "cell_type": "code",
   "execution_count": 121,
   "metadata": {},
   "outputs": [],
   "source": [
    "# test for result\n",
    "from scipy import stats\n",
    "from numpy import *\n",
    "\n",
    "groundtruth_real = pandas.read_csv('training/aucs.csv').set_index('inhibitor')\n",
    "predictions_real = pandas.read_csv('output/predictions.csv').set_index('inhibitor')"
   ]
  },
  {
   "cell_type": "code",
   "execution_count": 122,
   "metadata": {},
   "outputs": [],
   "source": [
    "result_spearman = []\n",
    "result_pearson = []\n",
    "\n",
    "inhibitors = set(pandas.read_csv('training/aucs.csv').inhibitor)\n",
    "for inhibitor in inhibitors:\n",
    "    tmp = groundtruth_real.loc[inhibitor].set_index('lab_id').join(\n",
    "                predictions_real.loc[inhibitor].set_index('lab_id'), \n",
    "                lsuffix='_groundtruth', rsuffix='_prediction')\n",
    "    result_spearman.append(stats.spearmanr(tmp['auc_groundtruth'],tmp['auc_prediction'])[0])\n",
    "    result_pearson.append(stats.pearsonr(tmp['auc_groundtruth'],tmp['auc_prediction'])[0])"
   ]
  },
  {
   "cell_type": "code",
   "execution_count": 123,
   "metadata": {},
   "outputs": [
    {
     "name": "stdout",
     "output_type": "stream",
     "text": [
      "(nan, nan)\n"
     ]
    }
   ],
   "source": [
    "print(mean(result_spearman),mean(result_pearson))"
   ]
  },
  {
   "cell_type": "code",
   "execution_count": 128,
   "metadata": {},
   "outputs": [],
   "source": [
    "#r = [x for x in result_pearson if str(x) != 'nan']\n",
    "#mean(r)"
   ]
  },
  {
   "cell_type": "markdown",
   "metadata": {},
   "source": [
    "### model ensemble"
   ]
  },
  {
   "cell_type": "code",
   "execution_count": 8,
   "metadata": {},
   "outputs": [],
   "source": [
    "import pandas\n",
    "predictions1 = pandas.read_csv('output/predictions.csv')\n",
    "predictions2 = pandas.read_csv('output/predictions_2400.csv')\n",
    "#predictions3 = pandas.read_csv('output/predictions_few.csv')\n",
    "#predictions4 = pandas.read_csv('output/predictions_medial.csv')\n",
    "#predictions5 = pandas.read_csv('output/predictions_many.csv')"
   ]
  },
  {
   "cell_type": "code",
   "execution_count": 327,
   "metadata": {},
   "outputs": [],
   "source": [
    "array = []\n",
    "for i in range(0,9760):\n",
    "    array.append(float(predictions1.loc[[i],:]['auc']*0.2 + predictions2.loc[[i],:]['auc']*0.4 \\\n",
    "                 + predictions3.loc[[i],:]['auc']*0.2 + predictions4.loc[[i],:]['auc']*0.1 \\\n",
    "                 + predictions5.loc[[i],:]['auc']*0.1))\n",
    "    "
   ]
  },
  {
   "cell_type": "code",
   "execution_count": 15,
   "metadata": {},
   "outputs": [],
   "source": [
    "#predictions1"
   ]
  },
  {
   "cell_type": "code",
   "execution_count": 20,
   "metadata": {},
   "outputs": [],
   "source": [
    "predictions1['auc'] = predictions1['auc']*0.5 + predictions2['auc']*0.5"
   ]
  },
  {
   "cell_type": "code",
   "execution_count": 23,
   "metadata": {},
   "outputs": [],
   "source": [
    "#predictions1\n",
    "#predictions1['auc']*0.5 + predictions2['auc']*0.5\n",
    "predictions1['auc'] /= 3"
   ]
  },
  {
   "cell_type": "code",
   "execution_count": 24,
   "metadata": {},
   "outputs": [
    {
     "data": {
      "text/plain": [
       "0       91.164920\n",
       "1       90.962320\n",
       "2       90.445791\n",
       "3       91.120758\n",
       "4       90.572853\n",
       "5       90.590045\n",
       "6       90.360094\n",
       "7       92.256475\n",
       "8       90.231167\n",
       "9       90.682610\n",
       "10      89.763036\n",
       "11      92.154531\n",
       "12      91.229698\n",
       "13      88.005392\n",
       "14      90.681908\n",
       "15      89.042089\n",
       "16      85.779689\n",
       "17      91.724034\n",
       "18      92.740854\n",
       "19      91.560889\n",
       "20      91.460592\n",
       "21      89.779850\n",
       "22      91.459511\n",
       "23      91.559877\n",
       "24      90.763487\n",
       "25      92.702774\n",
       "26      91.506807\n",
       "27      90.424799\n",
       "28      91.505797\n",
       "29      90.459564\n",
       "          ...    \n",
       "9730    47.873852\n",
       "9731    41.206725\n",
       "9732    43.538882\n",
       "9733    51.131223\n",
       "9734    39.331104\n",
       "9735    46.421430\n",
       "9736    46.251611\n",
       "9737    42.645018\n",
       "9738    42.798965\n",
       "9739    43.014878\n",
       "9740    39.027962\n",
       "9741    48.946949\n",
       "9742    39.296324\n",
       "9743    51.111952\n",
       "9744    41.562367\n",
       "9745    52.156057\n",
       "9746    41.599107\n",
       "9747    45.428982\n",
       "9748    43.869547\n",
       "9749    44.000673\n",
       "9750    46.539728\n",
       "9751    42.451316\n",
       "9752    49.582579\n",
       "9753    41.501891\n",
       "9754    52.410876\n",
       "9755    42.702037\n",
       "9756    44.463518\n",
       "9757    47.259107\n",
       "9758    47.585317\n",
       "9759    52.524420\n",
       "Name: auc, Length: 9760, dtype: float64"
      ]
     },
     "execution_count": 24,
     "metadata": {},
     "output_type": "execute_result"
    }
   ],
   "source": [
    "predictions1['auc']"
   ]
  },
  {
   "cell_type": "code",
   "execution_count": 25,
   "metadata": {},
   "outputs": [
    {
     "data": {
      "text/html": [
       "<div>\n",
       "<style scoped>\n",
       "    .dataframe tbody tr th:only-of-type {\n",
       "        vertical-align: middle;\n",
       "    }\n",
       "\n",
       "    .dataframe tbody tr th {\n",
       "        vertical-align: top;\n",
       "    }\n",
       "\n",
       "    .dataframe thead th {\n",
       "        text-align: right;\n",
       "    }\n",
       "</style>\n",
       "<table border=\"1\" class=\"dataframe\">\n",
       "  <thead>\n",
       "    <tr style=\"text-align: right;\">\n",
       "      <th></th>\n",
       "      <th>inhibitor</th>\n",
       "      <th>lab_id</th>\n",
       "      <th>auc</th>\n",
       "    </tr>\n",
       "  </thead>\n",
       "  <tbody>\n",
       "    <tr>\n",
       "      <th>0</th>\n",
       "      <td>Vismodegib (GDC-0449)</td>\n",
       "      <td>13-00163</td>\n",
       "      <td>91.164920</td>\n",
       "    </tr>\n",
       "    <tr>\n",
       "      <th>1</th>\n",
       "      <td>Vismodegib (GDC-0449)</td>\n",
       "      <td>13-00232</td>\n",
       "      <td>90.962320</td>\n",
       "    </tr>\n",
       "    <tr>\n",
       "      <th>2</th>\n",
       "      <td>Vismodegib (GDC-0449)</td>\n",
       "      <td>13-00365</td>\n",
       "      <td>90.445791</td>\n",
       "    </tr>\n",
       "    <tr>\n",
       "      <th>3</th>\n",
       "      <td>Vismodegib (GDC-0449)</td>\n",
       "      <td>13-00393</td>\n",
       "      <td>91.120758</td>\n",
       "    </tr>\n",
       "    <tr>\n",
       "      <th>4</th>\n",
       "      <td>Vismodegib (GDC-0449)</td>\n",
       "      <td>13-00454</td>\n",
       "      <td>90.572853</td>\n",
       "    </tr>\n",
       "    <tr>\n",
       "      <th>5</th>\n",
       "      <td>Vismodegib (GDC-0449)</td>\n",
       "      <td>13-00551</td>\n",
       "      <td>90.590045</td>\n",
       "    </tr>\n",
       "    <tr>\n",
       "      <th>6</th>\n",
       "      <td>Vismodegib (GDC-0449)</td>\n",
       "      <td>13-00552</td>\n",
       "      <td>90.360094</td>\n",
       "    </tr>\n",
       "    <tr>\n",
       "      <th>7</th>\n",
       "      <td>Vismodegib (GDC-0449)</td>\n",
       "      <td>13-00601</td>\n",
       "      <td>92.256475</td>\n",
       "    </tr>\n",
       "    <tr>\n",
       "      <th>8</th>\n",
       "      <td>Vismodegib (GDC-0449)</td>\n",
       "      <td>14-00015</td>\n",
       "      <td>90.231167</td>\n",
       "    </tr>\n",
       "    <tr>\n",
       "      <th>9</th>\n",
       "      <td>Vismodegib (GDC-0449)</td>\n",
       "      <td>14-00240</td>\n",
       "      <td>90.682610</td>\n",
       "    </tr>\n",
       "    <tr>\n",
       "      <th>10</th>\n",
       "      <td>Vismodegib (GDC-0449)</td>\n",
       "      <td>14-00259</td>\n",
       "      <td>89.763036</td>\n",
       "    </tr>\n",
       "    <tr>\n",
       "      <th>11</th>\n",
       "      <td>Vismodegib (GDC-0449)</td>\n",
       "      <td>14-00376</td>\n",
       "      <td>92.154531</td>\n",
       "    </tr>\n",
       "    <tr>\n",
       "      <th>12</th>\n",
       "      <td>Vismodegib (GDC-0449)</td>\n",
       "      <td>14-00448</td>\n",
       "      <td>91.229698</td>\n",
       "    </tr>\n",
       "    <tr>\n",
       "      <th>13</th>\n",
       "      <td>Vismodegib (GDC-0449)</td>\n",
       "      <td>14-00464</td>\n",
       "      <td>88.005392</td>\n",
       "    </tr>\n",
       "    <tr>\n",
       "      <th>14</th>\n",
       "      <td>Vismodegib (GDC-0449)</td>\n",
       "      <td>14-00495</td>\n",
       "      <td>90.681908</td>\n",
       "    </tr>\n",
       "    <tr>\n",
       "      <th>15</th>\n",
       "      <td>Vismodegib (GDC-0449)</td>\n",
       "      <td>14-00504</td>\n",
       "      <td>89.042089</td>\n",
       "    </tr>\n",
       "    <tr>\n",
       "      <th>16</th>\n",
       "      <td>Vismodegib (GDC-0449)</td>\n",
       "      <td>14-00537</td>\n",
       "      <td>85.779689</td>\n",
       "    </tr>\n",
       "    <tr>\n",
       "      <th>17</th>\n",
       "      <td>Vismodegib (GDC-0449)</td>\n",
       "      <td>14-00670</td>\n",
       "      <td>91.724034</td>\n",
       "    </tr>\n",
       "    <tr>\n",
       "      <th>18</th>\n",
       "      <td>Vismodegib (GDC-0449)</td>\n",
       "      <td>14-00672</td>\n",
       "      <td>92.740854</td>\n",
       "    </tr>\n",
       "    <tr>\n",
       "      <th>19</th>\n",
       "      <td>Vismodegib (GDC-0449)</td>\n",
       "      <td>14-00712</td>\n",
       "      <td>91.560889</td>\n",
       "    </tr>\n",
       "    <tr>\n",
       "      <th>20</th>\n",
       "      <td>Vismodegib (GDC-0449)</td>\n",
       "      <td>14-00787</td>\n",
       "      <td>91.460592</td>\n",
       "    </tr>\n",
       "    <tr>\n",
       "      <th>21</th>\n",
       "      <td>Vismodegib (GDC-0449)</td>\n",
       "      <td>14-00798</td>\n",
       "      <td>89.779850</td>\n",
       "    </tr>\n",
       "    <tr>\n",
       "      <th>22</th>\n",
       "      <td>Vismodegib (GDC-0449)</td>\n",
       "      <td>14-00832</td>\n",
       "      <td>91.459511</td>\n",
       "    </tr>\n",
       "    <tr>\n",
       "      <th>23</th>\n",
       "      <td>Vismodegib (GDC-0449)</td>\n",
       "      <td>15-00051</td>\n",
       "      <td>91.559877</td>\n",
       "    </tr>\n",
       "    <tr>\n",
       "      <th>24</th>\n",
       "      <td>Vismodegib (GDC-0449)</td>\n",
       "      <td>15-00057</td>\n",
       "      <td>90.763487</td>\n",
       "    </tr>\n",
       "    <tr>\n",
       "      <th>25</th>\n",
       "      <td>Vismodegib (GDC-0449)</td>\n",
       "      <td>15-00084</td>\n",
       "      <td>92.702774</td>\n",
       "    </tr>\n",
       "    <tr>\n",
       "      <th>26</th>\n",
       "      <td>Vismodegib (GDC-0449)</td>\n",
       "      <td>15-00147</td>\n",
       "      <td>91.506807</td>\n",
       "    </tr>\n",
       "    <tr>\n",
       "      <th>27</th>\n",
       "      <td>Vismodegib (GDC-0449)</td>\n",
       "      <td>15-00171</td>\n",
       "      <td>90.424799</td>\n",
       "    </tr>\n",
       "    <tr>\n",
       "      <th>28</th>\n",
       "      <td>Vismodegib (GDC-0449)</td>\n",
       "      <td>15-00248</td>\n",
       "      <td>91.505797</td>\n",
       "    </tr>\n",
       "    <tr>\n",
       "      <th>29</th>\n",
       "      <td>Vismodegib (GDC-0449)</td>\n",
       "      <td>15-00276</td>\n",
       "      <td>90.459564</td>\n",
       "    </tr>\n",
       "    <tr>\n",
       "      <th>...</th>\n",
       "      <td>...</td>\n",
       "      <td>...</td>\n",
       "      <td>...</td>\n",
       "    </tr>\n",
       "    <tr>\n",
       "      <th>9730</th>\n",
       "      <td>PI-103</td>\n",
       "      <td>16-00031</td>\n",
       "      <td>47.873852</td>\n",
       "    </tr>\n",
       "    <tr>\n",
       "      <th>9731</th>\n",
       "      <td>PI-103</td>\n",
       "      <td>16-00067</td>\n",
       "      <td>41.206725</td>\n",
       "    </tr>\n",
       "    <tr>\n",
       "      <th>9732</th>\n",
       "      <td>PI-103</td>\n",
       "      <td>16-00073</td>\n",
       "      <td>43.538882</td>\n",
       "    </tr>\n",
       "    <tr>\n",
       "      <th>9733</th>\n",
       "      <td>PI-103</td>\n",
       "      <td>16-00077</td>\n",
       "      <td>51.131223</td>\n",
       "    </tr>\n",
       "    <tr>\n",
       "      <th>9734</th>\n",
       "      <td>PI-103</td>\n",
       "      <td>16-00078</td>\n",
       "      <td>39.331104</td>\n",
       "    </tr>\n",
       "    <tr>\n",
       "      <th>9735</th>\n",
       "      <td>PI-103</td>\n",
       "      <td>16-00109</td>\n",
       "      <td>46.421430</td>\n",
       "    </tr>\n",
       "    <tr>\n",
       "      <th>9736</th>\n",
       "      <td>PI-103</td>\n",
       "      <td>16-00120</td>\n",
       "      <td>46.251611</td>\n",
       "    </tr>\n",
       "    <tr>\n",
       "      <th>9737</th>\n",
       "      <td>PI-103</td>\n",
       "      <td>16-00269</td>\n",
       "      <td>42.645018</td>\n",
       "    </tr>\n",
       "    <tr>\n",
       "      <th>9738</th>\n",
       "      <td>PI-103</td>\n",
       "      <td>16-00271</td>\n",
       "      <td>42.798965</td>\n",
       "    </tr>\n",
       "    <tr>\n",
       "      <th>9739</th>\n",
       "      <td>PI-103</td>\n",
       "      <td>16-00292</td>\n",
       "      <td>43.014878</td>\n",
       "    </tr>\n",
       "    <tr>\n",
       "      <th>9740</th>\n",
       "      <td>PI-103</td>\n",
       "      <td>16-00303</td>\n",
       "      <td>39.027962</td>\n",
       "    </tr>\n",
       "    <tr>\n",
       "      <th>9741</th>\n",
       "      <td>PI-103</td>\n",
       "      <td>16-00351</td>\n",
       "      <td>48.946949</td>\n",
       "    </tr>\n",
       "    <tr>\n",
       "      <th>9742</th>\n",
       "      <td>PI-103</td>\n",
       "      <td>16-00465</td>\n",
       "      <td>39.296324</td>\n",
       "    </tr>\n",
       "    <tr>\n",
       "      <th>9743</th>\n",
       "      <td>PI-103</td>\n",
       "      <td>16-00479</td>\n",
       "      <td>51.111952</td>\n",
       "    </tr>\n",
       "    <tr>\n",
       "      <th>9744</th>\n",
       "      <td>PI-103</td>\n",
       "      <td>16-00481</td>\n",
       "      <td>41.562367</td>\n",
       "    </tr>\n",
       "    <tr>\n",
       "      <th>9745</th>\n",
       "      <td>PI-103</td>\n",
       "      <td>16-00510</td>\n",
       "      <td>52.156057</td>\n",
       "    </tr>\n",
       "    <tr>\n",
       "      <th>9746</th>\n",
       "      <td>PI-103</td>\n",
       "      <td>16-00538</td>\n",
       "      <td>41.599107</td>\n",
       "    </tr>\n",
       "    <tr>\n",
       "      <th>9747</th>\n",
       "      <td>PI-103</td>\n",
       "      <td>16-00627</td>\n",
       "      <td>45.428982</td>\n",
       "    </tr>\n",
       "    <tr>\n",
       "      <th>9748</th>\n",
       "      <td>PI-103</td>\n",
       "      <td>16-00705</td>\n",
       "      <td>43.869547</td>\n",
       "    </tr>\n",
       "    <tr>\n",
       "      <th>9749</th>\n",
       "      <td>PI-103</td>\n",
       "      <td>16-00710</td>\n",
       "      <td>44.000673</td>\n",
       "    </tr>\n",
       "    <tr>\n",
       "      <th>9750</th>\n",
       "      <td>PI-103</td>\n",
       "      <td>16-00771</td>\n",
       "      <td>46.539728</td>\n",
       "    </tr>\n",
       "    <tr>\n",
       "      <th>9751</th>\n",
       "      <td>PI-103</td>\n",
       "      <td>16-00815</td>\n",
       "      <td>42.451316</td>\n",
       "    </tr>\n",
       "    <tr>\n",
       "      <th>9752</th>\n",
       "      <td>PI-103</td>\n",
       "      <td>16-00818</td>\n",
       "      <td>49.582579</td>\n",
       "    </tr>\n",
       "    <tr>\n",
       "      <th>9753</th>\n",
       "      <td>PI-103</td>\n",
       "      <td>16-00836</td>\n",
       "      <td>41.501891</td>\n",
       "    </tr>\n",
       "    <tr>\n",
       "      <th>9754</th>\n",
       "      <td>PI-103</td>\n",
       "      <td>16-01061</td>\n",
       "      <td>52.410876</td>\n",
       "    </tr>\n",
       "    <tr>\n",
       "      <th>9755</th>\n",
       "      <td>PI-103</td>\n",
       "      <td>16-01109</td>\n",
       "      <td>42.702037</td>\n",
       "    </tr>\n",
       "    <tr>\n",
       "      <th>9756</th>\n",
       "      <td>PI-103</td>\n",
       "      <td>16-01127</td>\n",
       "      <td>44.463518</td>\n",
       "    </tr>\n",
       "    <tr>\n",
       "      <th>9757</th>\n",
       "      <td>PI-103</td>\n",
       "      <td>16-01185</td>\n",
       "      <td>47.259107</td>\n",
       "    </tr>\n",
       "    <tr>\n",
       "      <th>9758</th>\n",
       "      <td>PI-103</td>\n",
       "      <td>16-01192</td>\n",
       "      <td>47.585317</td>\n",
       "    </tr>\n",
       "    <tr>\n",
       "      <th>9759</th>\n",
       "      <td>PI-103</td>\n",
       "      <td>16-01227</td>\n",
       "      <td>52.524420</td>\n",
       "    </tr>\n",
       "  </tbody>\n",
       "</table>\n",
       "<p>9760 rows × 3 columns</p>\n",
       "</div>"
      ],
      "text/plain": [
       "                  inhibitor    lab_id        auc\n",
       "0     Vismodegib (GDC-0449)  13-00163  91.164920\n",
       "1     Vismodegib (GDC-0449)  13-00232  90.962320\n",
       "2     Vismodegib (GDC-0449)  13-00365  90.445791\n",
       "3     Vismodegib (GDC-0449)  13-00393  91.120758\n",
       "4     Vismodegib (GDC-0449)  13-00454  90.572853\n",
       "5     Vismodegib (GDC-0449)  13-00551  90.590045\n",
       "6     Vismodegib (GDC-0449)  13-00552  90.360094\n",
       "7     Vismodegib (GDC-0449)  13-00601  92.256475\n",
       "8     Vismodegib (GDC-0449)  14-00015  90.231167\n",
       "9     Vismodegib (GDC-0449)  14-00240  90.682610\n",
       "10    Vismodegib (GDC-0449)  14-00259  89.763036\n",
       "11    Vismodegib (GDC-0449)  14-00376  92.154531\n",
       "12    Vismodegib (GDC-0449)  14-00448  91.229698\n",
       "13    Vismodegib (GDC-0449)  14-00464  88.005392\n",
       "14    Vismodegib (GDC-0449)  14-00495  90.681908\n",
       "15    Vismodegib (GDC-0449)  14-00504  89.042089\n",
       "16    Vismodegib (GDC-0449)  14-00537  85.779689\n",
       "17    Vismodegib (GDC-0449)  14-00670  91.724034\n",
       "18    Vismodegib (GDC-0449)  14-00672  92.740854\n",
       "19    Vismodegib (GDC-0449)  14-00712  91.560889\n",
       "20    Vismodegib (GDC-0449)  14-00787  91.460592\n",
       "21    Vismodegib (GDC-0449)  14-00798  89.779850\n",
       "22    Vismodegib (GDC-0449)  14-00832  91.459511\n",
       "23    Vismodegib (GDC-0449)  15-00051  91.559877\n",
       "24    Vismodegib (GDC-0449)  15-00057  90.763487\n",
       "25    Vismodegib (GDC-0449)  15-00084  92.702774\n",
       "26    Vismodegib (GDC-0449)  15-00147  91.506807\n",
       "27    Vismodegib (GDC-0449)  15-00171  90.424799\n",
       "28    Vismodegib (GDC-0449)  15-00248  91.505797\n",
       "29    Vismodegib (GDC-0449)  15-00276  90.459564\n",
       "...                     ...       ...        ...\n",
       "9730                 PI-103  16-00031  47.873852\n",
       "9731                 PI-103  16-00067  41.206725\n",
       "9732                 PI-103  16-00073  43.538882\n",
       "9733                 PI-103  16-00077  51.131223\n",
       "9734                 PI-103  16-00078  39.331104\n",
       "9735                 PI-103  16-00109  46.421430\n",
       "9736                 PI-103  16-00120  46.251611\n",
       "9737                 PI-103  16-00269  42.645018\n",
       "9738                 PI-103  16-00271  42.798965\n",
       "9739                 PI-103  16-00292  43.014878\n",
       "9740                 PI-103  16-00303  39.027962\n",
       "9741                 PI-103  16-00351  48.946949\n",
       "9742                 PI-103  16-00465  39.296324\n",
       "9743                 PI-103  16-00479  51.111952\n",
       "9744                 PI-103  16-00481  41.562367\n",
       "9745                 PI-103  16-00510  52.156057\n",
       "9746                 PI-103  16-00538  41.599107\n",
       "9747                 PI-103  16-00627  45.428982\n",
       "9748                 PI-103  16-00705  43.869547\n",
       "9749                 PI-103  16-00710  44.000673\n",
       "9750                 PI-103  16-00771  46.539728\n",
       "9751                 PI-103  16-00815  42.451316\n",
       "9752                 PI-103  16-00818  49.582579\n",
       "9753                 PI-103  16-00836  41.501891\n",
       "9754                 PI-103  16-01061  52.410876\n",
       "9755                 PI-103  16-01109  42.702037\n",
       "9756                 PI-103  16-01127  44.463518\n",
       "9757                 PI-103  16-01185  47.259107\n",
       "9758                 PI-103  16-01192  47.585317\n",
       "9759                 PI-103  16-01227  52.524420\n",
       "\n",
       "[9760 rows x 3 columns]"
      ]
     },
     "execution_count": 25,
     "metadata": {},
     "output_type": "execute_result"
    }
   ],
   "source": [
    "predictions1"
   ]
  },
  {
   "cell_type": "code",
   "execution_count": null,
   "metadata": {},
   "outputs": [],
   "source": []
  }
 ],
 "metadata": {
  "kernelspec": {
   "display_name": "Python 2",
   "language": "python",
   "name": "python2"
  },
  "language_info": {
   "codemirror_mode": {
    "name": "ipython",
    "version": 2
   },
   "file_extension": ".py",
   "mimetype": "text/x-python",
   "name": "python",
   "nbconvert_exporter": "python",
   "pygments_lexer": "ipython2",
   "version": "2.7.15"
  }
 },
 "nbformat": 4,
 "nbformat_minor": 2
}
